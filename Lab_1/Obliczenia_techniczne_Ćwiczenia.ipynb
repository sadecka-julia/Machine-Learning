{
  "cells": [
    {
      "cell_type": "markdown",
      "metadata": {
        "id": "j6Fy0Hg5oNyR"
      },
      "source": [
        "# Analiza danych i uczenie maszynowe - laboratorium\n",
        "\n",
        "Plan\n",
        "\n",
        "## Środowisko Python\n",
        "\n",
        "- Notebook (vscode)\n",
        "- Colab\n",
        "\n",
        "### Bibliotreki\n",
        "\n",
        "- `numpy`\n",
        "- `scipy`\n",
        "- `sklearn`\n",
        "- `statsmodels`\n",
        "- `TensorFlow`\n",
        "- `JAX`\n"
      ]
    },
    {
      "cell_type": "markdown",
      "metadata": {
        "id": "TP2uNATrqPlS"
      },
      "source": [
        "## Ekosystem\n",
        "![https://doi.org/10.1038/s41586-020-2649-2](attachment:numpy.png)"
      ]
    },
    {
      "cell_type": "markdown",
      "metadata": {
        "id": "89xLp88QqPlT"
      },
      "source": [
        "\n",
        "## Programowanie tablicowe\n",
        "\n",
        "Programowanie tablicowe jest podstawowym API w bibliotekach do uczenia maszynowego i analizy dnaych.\n",
        "- Tablice wielowymiarowe, generalizacja macierzy i wektorów\n",
        "\n",
        "    Harris, C. R., Millman, K. J., Van Der Walt, S. J., Gommers, R., Virtanen, P., Cournapeau, D., ... & Oliphant, T. E. (2020). Array programming with NumPy. Nature, 585(7825), 357-362.\n",
        "\n"
      ]
    },
    {
      "cell_type": "markdown",
      "metadata": {
        "id": "2rTMeYicqPlV"
      },
      "source": [
        "# Python"
      ]
    },
    {
      "cell_type": "markdown",
      "metadata": {
        "id": "CCbTeXw0qPlV"
      },
      "source": [
        "## Ćwiczenie\n",
        "\n",
        "Przygotować środowisko wirtualne i zainstalować biblioteki"
      ]
    },
    {
      "cell_type": "code",
      "execution_count": null,
      "metadata": {
        "id": "TomrtW8MqPlX"
      },
      "outputs": [],
      "source": [
        "#TODO"
      ]
    },
    {
      "cell_type": "markdown",
      "metadata": {
        "id": "ZxnkzCyEqPlZ"
      },
      "source": [
        "### Przykład\n",
        "\n",
        "`requirements.txt`\n",
        "\n",
        "```txt\n",
        "tensorflow==2.18.0\n",
        "jax>=0.5.0\n",
        "keras>=3.0.0\n",
        "matplotlib\n",
        "```"
      ]
    },
    {
      "cell_type": "markdown",
      "metadata": {
        "id": "autWIaGGqPlZ"
      },
      "source": [
        "# Numpy"
      ]
    },
    {
      "cell_type": "code",
      "execution_count": null,
      "metadata": {
        "id": "_uPvLp0NqPla"
      },
      "outputs": [],
      "source": [
        "import numpy as np\n",
        "import matplotlib.pyplot as plt"
      ]
    },
    {
      "cell_type": "markdown",
      "metadata": {
        "id": "WTYKMaAVqPlb"
      },
      "source": [
        "Lub"
      ]
    },
    {
      "cell_type": "code",
      "execution_count": null,
      "metadata": {
        "id": "PVvs-nYZqPlc"
      },
      "outputs": [],
      "source": [
        "import jax.numpy as jnp\n",
        "import tensorflow.experimental.numpy as tnp"
      ]
    },
    {
      "cell_type": "code",
      "execution_count": null,
      "metadata": {
        "colab": {
          "base_uri": "https://localhost:8080/"
        },
        "id": "yRWoxTPrqPlc",
        "outputId": "58c0fd3e-317d-491a-e495-4d9ded463770"
      },
      "outputs": [
        {
          "output_type": "execute_result",
          "data": {
            "text/plain": [
              "<tf.Tensor: shape=(4, 5), dtype=float64, numpy=\n",
              "array([[1., 1., 1., 1., 1.],\n",
              "       [1., 1., 1., 1., 1.],\n",
              "       [1., 1., 1., 1., 1.],\n",
              "       [1., 1., 1., 1., 1.]])>"
            ]
          },
          "metadata": {},
          "execution_count": 8
        }
      ],
      "source": [
        "tnp.ones((4, 5))"
      ]
    },
    {
      "cell_type": "code",
      "execution_count": null,
      "metadata": {
        "colab": {
          "base_uri": "https://localhost:8080/"
        },
        "id": "KPq6sWqRqPld",
        "outputId": "0b1e6354-b136-4b3f-cb6c-bedc01e00445"
      },
      "outputs": [
        {
          "output_type": "execute_result",
          "data": {
            "text/plain": [
              "array([[1., 1., 1., 1., 1.],\n",
              "       [1., 1., 1., 1., 1.],\n",
              "       [1., 1., 1., 1., 1.],\n",
              "       [1., 1., 1., 1., 1.]])"
            ]
          },
          "metadata": {},
          "execution_count": 9
        }
      ],
      "source": [
        "np.ones((4, 5))"
      ]
    },
    {
      "cell_type": "markdown",
      "metadata": {
        "id": "UYZlHDGkqPle"
      },
      "source": [
        "## Zadanie: Utworzyć wektor"
      ]
    },
    {
      "cell_type": "code",
      "execution_count": null,
      "metadata": {
        "colab": {
          "base_uri": "https://localhost:8080/"
        },
        "id": "H0N05PWJqPle",
        "outputId": "3da1bc3b-a13f-479f-cab6-0c85f58bbbbe"
      },
      "outputs": [
        {
          "output_type": "stream",
          "name": "stdout",
          "text": [
            "[7 6 5]\n"
          ]
        }
      ],
      "source": [
        "list1 = [7, 6, 5]\n",
        "list2 = [2, 3, 4]\n",
        "vector1 = np.array(list1)\n",
        "vector2 = np.array(list2)\n",
        "print(vector1)"
      ]
    },
    {
      "cell_type": "markdown",
      "metadata": {
        "id": "MSMs8ayCqPlf"
      },
      "source": [
        "## Zadanie: utworzyc macierz"
      ]
    },
    {
      "cell_type": "code",
      "execution_count": null,
      "metadata": {
        "colab": {
          "base_uri": "https://localhost:8080/"
        },
        "id": "t9ylvwK1qPlf",
        "outputId": "bc022548-ecd5-4d39-9937-2fbc09e56127"
      },
      "outputs": [
        {
          "output_type": "stream",
          "name": "stdout",
          "text": [
            "[[1 2 3]\n",
            " [4 5 6]]\n",
            "<built-in method astype of numpy.ndarray object at 0x7ad7129ff1b0>\n",
            "(2, 3)\n"
          ]
        }
      ],
      "source": [
        "a=np.asarray([[1, 2, 3], [4, 5, 6]])\n",
        "print(a)\n",
        "print(a.astype)\n",
        "print(a.shape)"
      ]
    },
    {
      "cell_type": "markdown",
      "metadata": {
        "id": "khFguX_LqPlg"
      },
      "source": [
        "## Zadanie: utworzyc Tensor"
      ]
    },
    {
      "cell_type": "code",
      "execution_count": null,
      "metadata": {
        "id": "MYK6ZP9NqPlg"
      },
      "outputs": [],
      "source": [
        "tensor_np = np.array([[[1, 2], [3, 4]], [[5, 6], [7, 8]]])"
      ]
    },
    {
      "cell_type": "markdown",
      "metadata": {
        "id": "wlplWnEKqPlh"
      },
      "source": [
        "## Zadanie: Policzyć średnia po 1,2, 3 osiach"
      ]
    },
    {
      "cell_type": "code",
      "execution_count": null,
      "metadata": {
        "id": "W08EqoM3qPlh"
      },
      "outputs": [],
      "source": [
        "# Średnia dla tensora (3D)\n",
        "mean_axis0_t = np.mean(tensor_np, axis=0)  # Średnia po 1. osi\n",
        "mean_axis1_t = np.mean(tensor_np, axis=1)  # Średnia po 2. osi\n",
        "mean_axis2_t = np.mean(tensor_np, axis=2)  # Średnia po 3. osi"
      ]
    },
    {
      "cell_type": "markdown",
      "metadata": {
        "id": "1cbgjiziqPli"
      },
      "source": [
        "## Zadanie: Wyizolowac kolumne, wiersz, fragment"
      ]
    },
    {
      "cell_type": "markdown",
      "metadata": {
        "id": "rpwloCL2qPlj"
      },
      "source": [
        "## Zadanie: Zmienić kształt\n",
        "\n",
        "`np.reshape`"
      ]
    },
    {
      "cell_type": "code",
      "execution_count": null,
      "metadata": {
        "id": "wZuY0nF_qPlj"
      },
      "outputs": [],
      "source": [
        "reshaped_matrix = np.reshape(matrix_np, (3, 2))"
      ]
    },
    {
      "cell_type": "markdown",
      "metadata": {
        "id": "-u5_niONqPlk"
      },
      "source": [
        "## Zadanie: Połaczyc wektory\n"
      ]
    },
    {
      "cell_type": "code",
      "execution_count": null,
      "metadata": {
        "id": "vpl7AN47qPlk",
        "colab": {
          "base_uri": "https://localhost:8080/"
        },
        "outputId": "4a0f46f3-0615-4b10-83c2-ff1ff40620cd"
      },
      "outputs": [
        {
          "output_type": "stream",
          "name": "stdout",
          "text": [
            "[7 6 5 2 3 4]\n"
          ]
        }
      ],
      "source": [
        "# TODO concatenate, axis, stack\n",
        "concatenated_vector = np.concatenate((vector1, vector2))\n",
        "print(concatenated_vector)"
      ]
    },
    {
      "cell_type": "markdown",
      "metadata": {
        "id": "Ns0Z6QTvqPll"
      },
      "source": [
        "## Zadanie: Dodac dwa wektory, wektor i macierz (broadcasting)"
      ]
    },
    {
      "cell_type": "code",
      "execution_count": null,
      "metadata": {
        "id": "4aQTwchGqPlm"
      },
      "outputs": [],
      "source": [
        "# TODO broadcasting - wykonanie działań na tablicach o nie takich samych wymiarach (niekompatybilnych) np. powiela wiersze których jest za mało"
      ]
    },
    {
      "cell_type": "markdown",
      "metadata": {
        "id": "z1Qa5lwbqPlm"
      },
      "source": [
        "## Zadanie: Pomnożyć macierz przez wektor"
      ]
    },
    {
      "cell_type": "code",
      "execution_count": null,
      "metadata": {
        "id": "xYJNT1b9qPlm"
      },
      "outputs": [],
      "source": [
        "# TODO"
      ]
    },
    {
      "cell_type": "markdown",
      "metadata": {
        "id": "3ahq5ymiqPln"
      },
      "source": [
        "## Zadanie: rozwiazac układ równań, sprawdzić poprawność"
      ]
    },
    {
      "cell_type": "code",
      "execution_count": null,
      "metadata": {
        "colab": {
          "base_uri": "https://localhost:8080/"
        },
        "id": "lp7PIzWfqPln",
        "outputId": "554e4a55-ca1f-4be9-b884-961852e13e96"
      },
      "outputs": [
        {
          "output_type": "execute_result",
          "data": {
            "text/plain": [
              "array([ 1.        , -7.        ,  5.33333333])"
            ]
          },
          "metadata": {},
          "execution_count": 15
        }
      ],
      "source": [
        "A = np.arange(1, 10).reshape((3, 3))\n",
        "A[0,0] = -1\n",
        "b = np.asarray([1, 1, -1])\n",
        "\n",
        "x = np.linalg.solve(A, b)\n",
        "x\n"
      ]
    },
    {
      "cell_type": "markdown",
      "metadata": {
        "id": "pQOoDuuEqPlo"
      },
      "source": [
        "## Zadanie rozwiązać układ  \n",
        "\n",
        "$$\n",
        "\\begin{cases}\n",
        "2 x+3y=1 \\\\\n",
        "3x + 2y=-1\n",
        "\\end{cases}\n",
        "$$"
      ]
    },
    {
      "cell_type": "code",
      "execution_count": null,
      "metadata": {
        "id": "saUM-V2QqPlo"
      },
      "outputs": [],
      "source": [
        "#TODO"
      ]
    },
    {
      "cell_type": "code",
      "execution_count": null,
      "metadata": {
        "colab": {
          "base_uri": "https://localhost:8080/",
          "height": 52
        },
        "id": "wk47LQ6KqPlp",
        "outputId": "b1fb3fb7-a8cf-4351-d55b-efe5cc240b5e"
      },
      "outputs": [
        {
          "output_type": "display_data",
          "data": {
            "text/plain": [
              "-1.0"
            ]
          },
          "metadata": {}
        },
        {
          "output_type": "display_data",
          "data": {
            "text/plain": [
              "0.9999999999999999"
            ]
          },
          "metadata": {}
        }
      ],
      "source": [
        "A=np.asarray([[2,3.],[3,2]])\n",
        "b=np.asarray([1,-1])\n",
        "x = np.linalg.solve(A,b)\n",
        "x, y = x\n",
        "display(x, y)"
      ]
    },
    {
      "cell_type": "markdown",
      "metadata": {
        "id": "5sNasibPqPlp"
      },
      "source": [
        "## Zadanie: wylosowac liczby, powtórzyć"
      ]
    },
    {
      "cell_type": "code",
      "execution_count": null,
      "metadata": {
        "colab": {
          "base_uri": "https://localhost:8080/"
        },
        "id": "ywgaifrRqPlq",
        "outputId": "ccf52f0f-3ed4-423c-da7e-6402bb132aa7"
      },
      "outputs": [
        {
          "output_type": "stream",
          "name": "stdout",
          "text": [
            "['BitGenerator', 'Generator', 'MT19937', 'PCG64', 'PCG64DXSM', 'Philox', 'RandomState', 'SFC64', 'SeedSequence', '__RandomState_ctor', '__all__', '__builtins__', '__cached__', '__doc__', '__file__', '__loader__', '__name__', '__package__', '__path__', '__spec__', '_bounded_integers', '_common', '_generator', '_mt19937', '_pcg64', '_philox', '_pickle', '_sfc64', 'beta', 'binomial', 'bit_generator', 'bytes', 'chisquare', 'choice', 'default_rng', 'dirichlet', 'exponential', 'f', 'gamma', 'geometric', 'get_bit_generator', 'get_state', 'gumbel', 'hypergeometric', 'laplace', 'logistic', 'lognormal', 'logseries', 'mtrand', 'multinomial', 'multivariate_normal', 'negative_binomial', 'noncentral_chisquare', 'noncentral_f', 'normal', 'pareto', 'permutation', 'poisson', 'power', 'rand', 'randint', 'randn', 'random', 'random_integers', 'random_sample', 'ranf', 'rayleigh', 'sample', 'seed', 'set_bit_generator', 'set_state', 'shuffle', 'standard_cauchy', 'standard_exponential', 'standard_gamma', 'standard_normal', 'standard_t', 'test', 'triangular', 'uniform', 'vonmises', 'wald', 'weibull', 'zipf']\n"
          ]
        }
      ],
      "source": [
        "print(dir(np.random))\n",
        "# TODO warto ustawiać seed? np.random.seed(42) - wpisujemy losową liczbę"
      ]
    },
    {
      "cell_type": "markdown",
      "metadata": {
        "id": "gKFQIvKnqPlq"
      },
      "source": [
        "## Zadanie: Narysować wektor\n",
        "\n"
      ]
    },
    {
      "cell_type": "code",
      "execution_count": null,
      "metadata": {
        "id": "n3SpJQitqPlr"
      },
      "outputs": [],
      "source": [
        "# TODO"
      ]
    },
    {
      "cell_type": "code",
      "execution_count": null,
      "metadata": {
        "colab": {
          "base_uri": "https://localhost:8080/",
          "height": 482
        },
        "id": "OXGuM492qPmO",
        "outputId": "e1b5df6d-6e47-47b6-bc26-c309c207e0f6"
      },
      "outputs": [
        {
          "output_type": "execute_result",
          "data": {
            "text/plain": [
              "[<matplotlib.lines.Line2D at 0x7ad70af30a10>,\n",
              " <matplotlib.lines.Line2D at 0x7ad70255b190>,\n",
              " <matplotlib.lines.Line2D at 0x7ad70255a950>]"
            ]
          },
          "metadata": {},
          "execution_count": 19
        },
        {
          "output_type": "display_data",
          "data": {
            "text/plain": [
              "<Figure size 640x480 with 1 Axes>"
            ],
            "image/png": "[encoded data removed]"
          },
          "metadata": {}
        }
      ],
      "source": [
        "r = np.random.normal(loc=2, scale=3, size=(4,3))\n",
        "plt.plot(r)"
      ]
    },
    {
      "cell_type": "markdown",
      "metadata": {
        "id": "HXfJxBryqPmP"
      },
      "source": [
        "## Zadanie Iterowac po wektorze"
      ]
    },
    {
      "cell_type": "code",
      "execution_count": null,
      "metadata": {
        "colab": {
          "base_uri": "https://localhost:8080/",
          "height": 86
        },
        "id": "6fSU18zSqPmP",
        "outputId": "f1027979-3420-4569-e546-2cbd1ba9eac1"
      },
      "outputs": [
        {
          "output_type": "display_data",
          "data": {
            "text/plain": [
              "array([[6, 2, 4],\n",
              "       [5, 7, 7],\n",
              "       [2, 2, 3],\n",
              "       [4, 3, 5]])"
            ]
          },
          "metadata": {}
        }
      ],
      "source": [
        "r=np.random.randint(1, 10, (4,3))\n",
        "display(r)"
      ]
    },
    {
      "cell_type": "markdown",
      "metadata": {
        "id": "AVq1jRLKqPmQ"
      },
      "source": [
        "# Autodiff i więcej\n",
        "\n",
        "- tensorflow\n",
        "- torch\n",
        "- jax\n",
        "- mlx (mac)"
      ]
    },
    {
      "cell_type": "markdown",
      "metadata": {
        "id": "ZK-GCPW6qPmQ"
      },
      "source": [
        "**Wydajność!**\n",
        "\n",
        "## JAX\n",
        "\n",
        "- GPU\n",
        "- XLA\n",
        "- autograd\n",
        "\n",
        "Uczenie maszynowe a szczególnie sieci neuronowe potrzebują gradientów (pochodnych)\n",
        "\n",
        "Biblioteka daje takie możliwości i wiele innych"
      ]
    },
    {
      "cell_type": "code",
      "execution_count": null,
      "metadata": {
        "id": "0C_5vYJJqPmR"
      },
      "outputs": [],
      "source": [
        "import jax\n",
        "import jax.numpy as jnp\n",
        "\n",
        "x = jnp.linspace(-2, 2, 100)\n",
        "\n",
        "\n",
        "def sq(x):\n",
        "    return x * x"
      ]
    },
    {
      "cell_type": "code",
      "execution_count": null,
      "metadata": {
        "id": "tzzhpIECqPmS"
      },
      "outputs": [],
      "source": [
        "import jax\n",
        "import matplotlib.pyplot as plt\n",
        "\n",
        "\n",
        "plt.plot(x, jax.vmap(sq)(x))\n",
        "pochodna = jax.grad(sq)\n",
        "pochodna = jax.vmap(pochodna)\n",
        "pochodna = jax.jit(pochodna)\n",
        "\n",
        "plt.plot(x, jax.vmap(sq)(x), label=r\"$x^2$\")\n",
        "plt.plot(x, pochodna(x), label=r\"$\\frac{d}{dx}x^2$\")\n",
        "plt.legend()"
      ]
    },
    {
      "cell_type": "markdown",
      "metadata": {
        "id": "d_rhuoeLqPmS"
      },
      "source": [
        "# Podsumowania\n",
        "\n",
        "# One more think"
      ]
    },
    {
      "cell_type": "markdown",
      "metadata": {
        "id": "3nALYymVoVVB"
      },
      "source": [
        "# TensorFlow Probability - Bonus\n",
        "\n",
        "Biblioteka rozkładów"
      ]
    },
    {
      "cell_type": "code",
      "execution_count": null,
      "metadata": {
        "id": "gViMfQZXn8c3"
      },
      "outputs": [],
      "source": [
        "import jax\n",
        "import jax.numpy as jnp\n",
        "import matplotlib.pyplot as plt\n",
        "import numpy as np\n",
        "import pandas as pd\n",
        "import seaborn as sns\n",
        "import tensorflow as tf\n",
        "\n",
        "from tensorflow_probability.substrates import jax as tfp"
      ]
    },
    {
      "cell_type": "markdown",
      "metadata": {
        "id": "yGzrzJByqF18"
      },
      "source": [
        "# Zmienne losowe i rozklady"
      ]
    },
    {
      "cell_type": "code",
      "execution_count": null,
      "metadata": {
        "id": "bw6pI3QTqHvw"
      },
      "outputs": [],
      "source": [
        "tfd = tfp.distributions"
      ]
    },
    {
      "cell_type": "code",
      "execution_count": null,
      "metadata": {
        "id": "oG8o0H3XPsSs"
      },
      "outputs": [],
      "source": [
        "dir(tfd)"
      ]
    },
    {
      "cell_type": "code",
      "execution_count": null,
      "metadata": {
        "id": "ldeKiN6cqaWL"
      },
      "outputs": [],
      "source": [
        "norm = tfd.Normal(loc=4, scale=2, name=\"wzrost\")\n",
        "norm"
      ]
    },
    {
      "cell_type": "code",
      "execution_count": null,
      "metadata": {
        "id": "whAnzY0eqnCe"
      },
      "outputs": [],
      "source": [
        "norm.mean()"
      ]
    },
    {
      "cell_type": "code",
      "execution_count": null,
      "metadata": {
        "id": "axXkTfn5qpqh"
      },
      "outputs": [],
      "source": [
        "norm.sample()"
      ]
    },
    {
      "cell_type": "code",
      "execution_count": null,
      "metadata": {
        "id": "cZP66RhIqr0G"
      },
      "outputs": [],
      "source": [
        "norm.sample(10)"
      ]
    },
    {
      "cell_type": "code",
      "execution_count": null,
      "metadata": {
        "id": "kMx8NzmRDT-5"
      },
      "outputs": [],
      "source": [
        "norm.sample((10, 2))"
      ]
    },
    {
      "cell_type": "code",
      "execution_count": null,
      "metadata": {
        "id": "xGkjupSYqvK1"
      },
      "outputs": [],
      "source": [
        "tnp.mean(norm.sample(10000000))"
      ]
    },
    {
      "cell_type": "markdown",
      "metadata": {
        "id": "kjxZYZVSqInD"
      },
      "source": [
        "Co to znaczy $E X=∫ x f(x) dx$ ?\n",
        "\n"
      ]
    },
    {
      "cell_type": "markdown",
      "metadata": {
        "id": "5uDrwhCzq3D3"
      },
      "source": [
        "Jak widzimy $E X$ to praktycznie oznacza $\\frac{1}{n}\\sum_1^n x.sample()=$ `np.mean(x.sample(n))`, gdzie $n→∞$"
      ]
    },
    {
      "cell_type": "markdown",
      "metadata": {
        "id": "yMeta5V1rXMO"
      },
      "source": [
        "## Rozklad"
      ]
    },
    {
      "cell_type": "code",
      "execution_count": null,
      "metadata": {
        "id": "YBvi7fjIrZKA"
      },
      "outputs": [],
      "source": [
        "plt.hist(norm.sample(100000).numpy());"
      ]
    },
    {
      "cell_type": "markdown",
      "metadata": {
        "id": "x_zSZfO0rlvI"
      },
      "source": [
        "może ładniej"
      ]
    },
    {
      "cell_type": "code",
      "execution_count": null,
      "metadata": {
        "id": "fMmz51W1rnkT"
      },
      "outputs": [],
      "source": [
        "import seaborn as sns\n",
        "\n",
        "sns.set_theme()"
      ]
    },
    {
      "cell_type": "code",
      "execution_count": null,
      "metadata": {
        "id": "54XQrW6drp08"
      },
      "outputs": [],
      "source": [
        "sns.histplot(norm.sample(100000).numpy())"
      ]
    },
    {
      "cell_type": "code",
      "execution_count": null,
      "metadata": {
        "id": "WFRDSTuCaAoT"
      },
      "outputs": [],
      "source": [
        "sns.histplot(norm.sample(100).numpy(), stat=\"density\", label=\"hist\")\n",
        "x = np.linspace(-5, 13, 100)\n",
        "y = norm.prob(x)\n",
        "\n",
        "plt.plot(x, y, \"k\", label=\"prob\")\n",
        "plt.legend()"
      ]
    },
    {
      "cell_type": "markdown",
      "metadata": {
        "id": "9zVPyJf6pLdl"
      },
      "source": [
        "## Ćwiczenie\n",
        "Zbadac dla 1,10,100,1000,10000,1000000"
      ]
    },
    {
      "cell_type": "code",
      "execution_count": null,
      "metadata": {
        "id": "EpW08k4VG6-B"
      },
      "outputs": [],
      "source": [
        "x = np.linspace(-5, 13, 100)\n",
        "y = norm.log_prob(x)\n",
        "plt.plot(x, y)\n",
        "plt.legend()"
      ]
    },
    {
      "cell_type": "markdown",
      "metadata": {
        "id": "wy4ZtHGuqkK_"
      },
      "source": [
        "## Kształty i niezależność"
      ]
    },
    {
      "cell_type": "code",
      "execution_count": null,
      "metadata": {
        "id": "Lqgy0dUrqvIb"
      },
      "outputs": [],
      "source": [
        "tfd.Normal(loc=2, scale=3.0)"
      ]
    },
    {
      "cell_type": "code",
      "execution_count": null,
      "metadata": {
        "id": "6L4RoEM3ql7E"
      },
      "outputs": [],
      "source": [
        "tfd.Normal(loc=tnp.asarray([1, 5.0]), scale=3.0)"
      ]
    },
    {
      "cell_type": "code",
      "execution_count": null,
      "metadata": {
        "id": "4Xh0IoT6NGJt"
      },
      "outputs": [],
      "source": [
        "tfd.MultivariateNormalDiag(loc=tnp.asarray([1, 5.0]))"
      ]
    },
    {
      "cell_type": "code",
      "execution_count": null,
      "metadata": {
        "id": "Bs-GUNpONP3-"
      },
      "outputs": [],
      "source": [
        "tfd.MultivariateNormalDiag(loc=tnp.asarray([[1, 5.0], [3.0, 30]]))"
      ]
    },
    {
      "cell_type": "code",
      "execution_count": null,
      "metadata": {
        "id": "HU2y0DHPNYWP"
      },
      "outputs": [],
      "source": [
        "tfd.MultivariateNormalDiag(loc=tnp.asarray([[1, 5.0], [3.0, 30]])).sample()"
      ]
    },
    {
      "cell_type": "code",
      "execution_count": null,
      "metadata": {
        "id": "5F5WnrFqNany"
      },
      "outputs": [],
      "source": [
        "tfd.MultivariateNormalDiag(loc=tnp.asarray([[1, 5.0], [3.0, 30]])).sample(5)"
      ]
    },
    {
      "cell_type": "markdown",
      "metadata": {
        "id": "YQpgdoJeuSBo"
      },
      "source": [
        "## Optymalizacja"
      ]
    },
    {
      "cell_type": "code",
      "execution_count": null,
      "metadata": {
        "id": "tKnm16J5OPh3"
      },
      "outputs": [],
      "source": [
        "x = tf.Variable(0.0)\n",
        "loss_fn = lambda: (x - 5.0) ** 2\n",
        "losses = tfp.math.minimize(\n",
        "    loss_fn, num_steps=100, optimizer=tf.optimizers.Adam(learning_rate=0.1)\n",
        ")"
      ]
    },
    {
      "cell_type": "code",
      "execution_count": null,
      "metadata": {
        "id": "yEJyUVsFOitO"
      },
      "outputs": [],
      "source": [
        "print(x)"
      ]
    },
    {
      "cell_type": "code",
      "execution_count": null,
      "metadata": {
        "id": "hpdExCNIPvMT"
      },
      "outputs": [],
      "source": [
        "# A high-dimensional quadratic bowl.\n",
        "ndims = 60\n",
        "minimum = np.ones([ndims], dtype=\"float64\")\n",
        "scales = np.arange(ndims, dtype=\"float64\") + 1.0\n",
        "\n",
        "\n",
        "# The objective function and the gradient.\n",
        "def quadratic_loss_and_gradient(x):\n",
        "    return tfp.math.value_and_gradient(\n",
        "        lambda x: tf.reduce_sum(\n",
        "            scales * tf.math.squared_difference(x, minimum), axis=-1\n",
        "        ),\n",
        "        x,\n",
        "    )\n",
        "\n",
        "\n",
        "start = np.arange(ndims, 0, -1, dtype=\"float64\")\n",
        "optim_results = tfp.optimizer.lbfgs_minimize(\n",
        "    quadratic_loss_and_gradient,\n",
        "    initial_position=start,\n",
        "    num_correction_pairs=10,\n",
        "    tolerance=1e-8,\n",
        ")\n",
        "optim_results.position"
      ]
    },
    {
      "cell_type": "code",
      "execution_count": null,
      "metadata": {
        "id": "8jprE5NfKkNA"
      },
      "outputs": [],
      "source": [
        "optim_results.num_iterations"
      ]
    },
    {
      "cell_type": "markdown",
      "metadata": {
        "id": "UoDcFYBQUPAY"
      },
      "source": [
        "# MLE\n"
      ]
    },
    {
      "cell_type": "code",
      "execution_count": null,
      "metadata": {
        "id": "CNZCAoF5UQbP"
      },
      "outputs": [],
      "source": [
        "# TODO\n",
        "exp = tfd.Exponential(rate=tnp.asarray(20.0))\n",
        "n = 1000\n",
        "x = exp.sample(n)\n",
        "tnp.sum(exp.log_prob(x))"
      ]
    },
    {
      "cell_type": "code",
      "execution_count": null,
      "metadata": {
        "id": "mNXVA_zdt6Tu"
      },
      "outputs": [],
      "source": [
        "exp2 = tfd.Exponential(rate=tnp.expand_dims(tnp.linspace(10, 40, 100), -1))\n",
        "\n",
        "ll = tnp.sum(exp2.log_prob(x), axis=1)\n",
        "plt.plot(tnp.linspace(10, 40, 100), ll)\n",
        "plt.axvline(20, color=\"k\")\n",
        "\n",
        "\n",
        "plt.axvline(tnp.linspace(10, 40, 100)[np.argmax(ll)], color=\"green\")"
      ]
    },
    {
      "cell_type": "code",
      "execution_count": null,
      "metadata": {
        "id": "hbW8v3avZLaN"
      },
      "outputs": [],
      "source": [
        "exp2.log_prob(x).shape"
      ]
    },
    {
      "cell_type": "markdown",
      "metadata": {
        "id": "kKBRXhOLuboA"
      },
      "source": [
        "## Ćwiczenie\n",
        "\n",
        "Zbadac MLE dla n=10,100,1000,10000..."
      ]
    }
  ],
  "metadata": {
    "colab": {
      "provenance": []
    },
    "kernelspec": {
      "display_name": ".venv",
      "language": "python",
      "name": "python3"
    },
    "language_info": {
      "codemirror_mode": {
        "name": "ipython",
        "version": 3
      },
      "file_extension": ".py",
      "mimetype": "text/x-python",
      "name": "python",
      "nbconvert_exporter": "python",
      "pygments_lexer": "ipython3",
      "version": "3.11.7"
    }
  },
  "nbformat": 4,
  "nbformat_minor": 0
}