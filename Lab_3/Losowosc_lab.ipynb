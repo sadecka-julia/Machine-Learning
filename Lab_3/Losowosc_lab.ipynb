{
 "cells": [
  {
   "cell_type": "code",
   "execution_count": null,
   "id": "61b27630",
   "metadata": {},
   "outputs": [
    {
     "ename": "",
     "evalue": "",
     "output_type": "error",
     "traceback": [
      "\u001b[1;31mRunning cells with 'Python 3.11.0' requires the ipykernel package.\n",
      "\u001b[1;31mRun the following command to install 'ipykernel' into the Python environment. \n",
      "\u001b[1;31mCommand: 'c:/Python311/python.exe -m pip install ipykernel -U --user --force-reinstall'"
     ]
    }
   ],
   "source": [
    "import numpy as np\n",
    "import pandas as pd\n",
    "from matplotlib import pyplot as plt\n",
    "import seaborn as sns\n",
    "\n",
    "# import jax\n",
    "# import jax.numpy as jnp\n",
    "import functools as ft"
   ]
  },
  {
   "cell_type": "markdown",
   "id": "437541f4501ef1f8",
   "metadata": {
    "collapsed": false
   },
   "source": [
    "## Zadanie\n",
    "\n",
    "Proszę napisać program, który policzy, po ilu losowaniach dostaniemy perfekcyjną\n",
    "estymację (czyli zaobserwujemy $np$ sukcesów) dla próbki o wielkości $n$ i\n",
    "dwóch możliwych wynikach $P(X=1)=p$ i $P(X=0)=1-p$.\n",
    "\n",
    "Dla przykładu: dla $p=0.4$ oraz $n=10$ możliwą poszukiwaną próbką jest $\\{0, 1,\n",
    "1, 0, 1, 0, 0, 0, 0, 1\\}$\n",
    "\n"
   ]
  },
  {
   "cell_type": "code",
   "execution_count": null,
   "id": "bc62445e",
   "metadata": {},
   "outputs": [],
   "source": [
    "n = 10\n",
    "pr = 0.4\n",
    "def perfectEstimation(n, pr):\n",
    "    i = 0\n",
    "    while True:\n",
    "        i+=1\n",
    "        a = np.random.choice([0,1], size = n, p=(pr, 1-pr))\n",
    "        if np.mean(a) == pr:\n",
    "            return i\n",
    "        \n",
    "perfectEstimation(n, pr)\n",
    "    \n"
   ]
  },
  {
   "cell_type": "markdown",
   "id": "505d78d8",
   "metadata": {},
   "source": [
    "## Zadanie \n",
    "\n",
    "Proszę narysować wykres średniej liczby perfekcyjnych losowań na $n$ prób (proponuję przyjąć 100), dla $p=0.5$ oraz $n=\\{2, 4, 6, 8, 10, 14, 20, 30, 50, 70, 100, 150, 200, 300\\}$"
   ]
  },
  {
   "cell_type": "code",
   "execution_count": null,
   "id": "3892bf45",
   "metadata": {},
   "outputs": [],
   "source": [
    "# TODO"
   ]
  },
  {
   "cell_type": "markdown",
   "id": "5f0d91f7",
   "metadata": {},
   "source": [
    "## Zadanie\n",
    "\n",
    "Rozważmy rozkład Pareto. Jaka jest jego pamięć ($P(X<t+\\tau|X> \\tau)$)?\n",
    "\n",
    "$$\\mathrm{cdf}(x)=1-\\left(\\frac{\\beta}{x}\\right)^\\alpha$$"
   ]
  },
  {
   "cell_type": "markdown",
   "id": "bd8393d3",
   "metadata": {},
   "source": []
  },
  {
   "cell_type": "markdown",
   "id": "24f6456a",
   "metadata": {},
   "source": [
    "# Rozkłady i anomalie\n",
    "\n",
    "- anomalia «odchylenie od normy»\n",
    "- Co jest normą ? Odpowiada rachunek prawdopodobieństwa.\n"
   ]
  },
  {
   "cell_type": "markdown",
   "id": "9041bc3c",
   "metadata": {},
   "source": [
    "## Zadanie\n",
    "\n",
    "Wylosować 10000 liczb z rozkładu normalnego $N(0,1)$. Ile spełnia warunek:\n",
    "\n",
    "- $x-\\mu<0\\sigma$\n",
    "- $x-\\mu>1\\sigma$\n",
    "- $x-\\mu<-2\\sigma$\n",
    "- $x-\\mu>5\\sigma$\n",
    "- $|x-\\mu|>5\\sigma$\n",
    "\n",
    "__Co nam mówi obserwacja liczby -8 ?__\n",
    "\n",
    "## Zadanie\n",
    "\n",
    "Jak powtórzyć wyniki dla rozkładu wykładniczego"
   ]
  },
  {
   "cell_type": "code",
   "execution_count": null,
   "id": "9729225c",
   "metadata": {},
   "outputs": [],
   "source": [
    "#TODO"
   ]
  },
  {
   "cell_type": "markdown",
   "id": "798e8353",
   "metadata": {},
   "source": [
    "## Zadanie:\n",
    "\n",
    "### twierdzenie graniczne\n",
    "\n",
    "Narysować rozkład sumy 30 zmiennych losowych o rozkładzie wykładniczym"
   ]
  },
  {
   "cell_type": "code",
   "execution_count": null,
   "id": "7769e10b",
   "metadata": {},
   "outputs": [],
   "source": [
    "#TODO"
   ]
  },
  {
   "cell_type": "markdown",
   "id": "d9d3692b",
   "metadata": {},
   "source": [
    "## Zadanie\n",
    "Rozważ sieć z 100 użytkownikami. Średnio każdy użytkownik wymaga 2 Mbit/s, a odchylenie standardowe zapotrzebowania wynosi 4 Mbit/s. Sieć posiada łącze downlinkowe o przepustowości 280 Mbit/s. Oblicz prawdopodobieństwo, że ktoś nie będzie mógł pobierać danych z wymaganą prędkością.\n",
    "\n",
    "## Zadanie \n",
    "Rozważ sieć z 100 użytkownikami. Każdy użytkownik potrzebuje średnio 2 Mb/s. Odchylenie standardowe zapotrzebowania wynosi 4 Mb/s. Oblicz przepustowość łącza downlinkowego, dla której prawdopodobieństwo, że ktoś nie będzie mógł pobierać z wymaganą prędkością, jest mniejsze niż 0,01.\n"
   ]
  },
  {
   "cell_type": "code",
   "execution_count": null,
   "id": "5f280e6e",
   "metadata": {},
   "outputs": [],
   "source": [
    "import numpy as np\n",
    "import scipy.stats as ss \n",
    "\n",
    "print(1 - ss.norm.cdf(280, 200, 40))\n",
    "print(ss.norm.ppf(0.99, 200, 40))\n"
   ]
  },
  {
   "cell_type": "markdown",
   "id": "809557ce772cd8d1",
   "metadata": {
    "collapsed": false
   },
   "source": [
    "# Probability and calculus - Extra\n",
    "\n",
    "::: problem\n",
    "**Problem 1**. *Consider the experiment of throwing a dice made of a box\n",
    "of matches with dimensions (1,2,4). $X$ is a random viable describing\n",
    "number of dost. Find*\n",
    "\n",
    "1.  *Expected value of $X$*\n",
    "\n",
    "2.  *Expected value of $X^2$*\n",
    "\n",
    "3.  *Variance of $X$*\n",
    "\n",
    "4.  *Standard deviation of $X$*\n",
    ":::\n",
    "\n",
    "::: problem\n",
    "**Problem 2**. *RV $U$ takes values 0 with probability 0.2 and\n",
    "$\\frac{\\pi}{2}$ with probability 0.8. Find*\n",
    "\n",
    "1.  *Expected value of $U$*\n",
    "\n",
    "2.  *Variance of $U$*\n",
    "\n",
    "3.  *$\\mathbb{E} sin(U)$*\n",
    ":::\n",
    "\n",
    "::: problem\n",
    "**Problem 3**. *Random variable $Y$ has pdf $\\sim A (1-t^2)$,\n",
    "$t \\in (0,1)$*\n",
    "\n",
    "1.  *$A$*\n",
    "\n",
    "2.  *Expected value of $Y$*\n",
    "\n",
    "3.  *Expected value of $Y^2$*\n",
    "\n",
    "4.  *variance of $Y$*\n",
    "\n",
    "5.  *Standard deviation of $Y$*\n",
    ":::\n",
    "\n",
    "::: problem\n",
    "**Problem 4**. *$Z=X+Y$ Find*\n",
    "\n",
    "1.  *Expected value of $Z$*\n",
    "\n",
    "2.  *Variance of $Z$*\n",
    ":::\n",
    "\n",
    "::: problem\n",
    "**Problem 8**. *Consider the experiment of tossing a coin, what is the\n",
    "expected time until head occurs?*\n",
    ":::\n",
    "\n",
    "::: problem\n",
    "**Problem 9**. *Find the rectangle that has maximum area and contains\n",
    "point $(0,0)$ and one pint in a line $y=1-x$*\n",
    ":::\n",
    "\n",
    "\n",
    "::: problem\n",
    "**Problem 11**. *Where the function $f(x,y)=x^2+y^2$ has the minimum\n",
    "value, subject to $x+y=1$?*\n",
    ":::\n",
    "\n"
   ]
  },
  {
   "cell_type": "markdown",
   "id": "492613b6",
   "metadata": {},
   "source": []
  }
 ],
 "metadata": {
  "kernelspec": {
   "display_name": "Python 3",
   "language": "python",
   "name": "python3"
  },
  "language_info": {
   "codemirror_mode": {
    "name": "ipython",
    "version": 3
   },
   "file_extension": ".py",
   "mimetype": "text/x-python",
   "name": "python",
   "nbconvert_exporter": "python",
   "pygments_lexer": "ipython3",
   "version": "3.11.0"
  }
 },
 "nbformat": 4,
 "nbformat_minor": 5
}
