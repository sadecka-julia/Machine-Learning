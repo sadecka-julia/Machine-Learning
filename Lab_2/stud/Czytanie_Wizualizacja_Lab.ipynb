{
 "cells": [
  {
   "cell_type": "markdown",
   "metadata": {},
   "source": [
    "# Analiza danych i uczenie maszynowe - laboratorium Czytanie danych i wizualizacja\n",
    "\n"
   ]
  },
  {
   "cell_type": "code",
   "execution_count": 1,
   "metadata": {},
   "outputs": [],
   "source": [
    "import pandas as pd\n",
    "import matplotlib.pyplot as plt\n",
    "# import seaborn as sns\n",
    "# import seaborn.objects as so\n",
    "import numpy as np\n",
    "# sns.set_theme()\n",
    "%config InlineBackend.figure_formats = ['svg']"
   ]
  },
  {
   "cell_type": "code",
   "execution_count": null,
   "metadata": {
    "vscode": {
     "languageId": "shellscript"
    }
   },
   "outputs": [],
   "source": [
    "!gdown 1qVo5zZz4TYy7HfVTZglOoB1McwRqPP3z"
   ]
  },
  {
   "cell_type": "markdown",
   "metadata": {},
   "source": [
    "## Zadanie 1 Wczytać napisy\n",
    "\n",
    "Wczytać napisy z załaczonego pliku w formacie `srt`. \n",
    "\n",
    "```srt\n",
    "1\n",
    "00:00:47,589 --> 00:00:51,509\n",
    "www.NapiProjekt.pl - nowa jakość napisów.\n",
    "Napisy zostały specjalnie dopasowane do Twojej wersji filmu.\n",
    "\n",
    "2\n",
    "00:00:51,593 --> 00:00:52,719\n",
    "Sprawdzam.\n",
    "\n",
    "3\n",
    "00:00:53,511 --> 00:00:56,306\n",
    "I podbijam.\n",
    "```\n",
    "\n",
    "Nalezy doprowadzić do postaci:\n",
    "\n",
    "|indeks|tekst|czas_start|czas_stop|\n",
    "|-------|-----|----------|---------|\n",
    "|1|www.NapiProjekt.pl - nowa jakość napisów.\\nNapisy zostały specjalnie dopasowane do Twojej wersji filmu.|00:00:47.589|00:00:51.509|\n",
    "#### Problemy\n",
    "\n",
    "- Kodowanie\n",
    "- Format nietabelaryczny\n",
    "- Przecinki zamiast kropek\n",
    "- typy danych"
   ]
  },
  {
   "cell_type": "code",
   "execution_count": 7,
   "metadata": {},
   "outputs": [
    {
     "data": {
      "text/html": [
       "<div>\n",
       "<style scoped>\n",
       "    .dataframe tbody tr th:only-of-type {\n",
       "        vertical-align: middle;\n",
       "    }\n",
       "\n",
       "    .dataframe tbody tr th {\n",
       "        vertical-align: top;\n",
       "    }\n",
       "\n",
       "    .dataframe thead th {\n",
       "        text-align: right;\n",
       "    }\n",
       "</style>\n",
       "<table border=\"1\" class=\"dataframe\">\n",
       "  <thead>\n",
       "    <tr style=\"text-align: right;\">\n",
       "      <th></th>\n",
       "      <th>czas</th>\n",
       "      <th>tekst</th>\n",
       "    </tr>\n",
       "    <tr>\n",
       "      <th>index</th>\n",
       "      <th></th>\n",
       "      <th></th>\n",
       "    </tr>\n",
       "  </thead>\n",
       "  <tbody>\n",
       "    <tr>\n",
       "      <th>1</th>\n",
       "      <td>00:00:47,589 --&gt; 00:00:51,509</td>\n",
       "      <td>www.NapiProjekt.pl - nowa jakość napisów.\\nNap...</td>\n",
       "    </tr>\n",
       "    <tr>\n",
       "      <th>2</th>\n",
       "      <td>00:00:51,593 --&gt; 00:00:52,719</td>\n",
       "      <td>Sprawdzam.</td>\n",
       "    </tr>\n",
       "    <tr>\n",
       "      <th>3</th>\n",
       "      <td>00:00:53,511 --&gt; 00:00:56,306</td>\n",
       "      <td>I podbijam.</td>\n",
       "    </tr>\n",
       "    <tr>\n",
       "      <th>4</th>\n",
       "      <td>00:01:02,604 --&gt; 00:01:06,191</td>\n",
       "      <td>Równam. Poproszę dwie.</td>\n",
       "    </tr>\n",
       "    <tr>\n",
       "      <th>5</th>\n",
       "      <td>00:01:17,202 --&gt; 00:01:19,412</td>\n",
       "      <td>Masz tik nerwowy.</td>\n",
       "    </tr>\n",
       "  </tbody>\n",
       "</table>\n",
       "</div>"
      ],
      "text/plain": [
       "                                czas  \\\n",
       "index                                  \n",
       "1      00:00:47,589 --> 00:00:51,509   \n",
       "2      00:00:51,593 --> 00:00:52,719   \n",
       "3      00:00:53,511 --> 00:00:56,306   \n",
       "4      00:01:02,604 --> 00:01:06,191   \n",
       "5      00:01:17,202 --> 00:01:19,412   \n",
       "\n",
       "                                                   tekst  \n",
       "index                                                     \n",
       "1      www.NapiProjekt.pl - nowa jakość napisów.\\nNap...  \n",
       "2                                             Sprawdzam.  \n",
       "3                                            I podbijam.  \n",
       "4                                 Równam. Poproszę dwie.  \n",
       "5                                      Masz tik nerwowy.  "
      ]
     },
     "execution_count": 7,
     "metadata": {},
     "output_type": "execute_result"
    }
   ],
   "source": [
    "fname = \"D:\\\\STUDIA\\\\Cyberka\\\\Magisterka_1\\\\Uczenie_maszynowe\\\\Lab_2\\\\Czytanie_Wizualizacja_Lab\\\\data\\\\Star.Trek.Picard.S01E01.PROPER.WEBRip.x264-ION10.srt\"\n",
    "# pd.read_table(fname)\n",
    "with open(fname, \"r\", encoding=\"cp1250\") as f:\n",
    "  txt = f.read()\n",
    "txts = txt.split(\"\\n\\n\")\n",
    "\n",
    "def parse(txt):\n",
    "  subtxt = txt.split(\"\\n\")\n",
    "  return subtxt[:2] + [\"\\n\".join(subtxt[2:])]\n",
    "\n",
    "df = pd.DataFrame([parse(txt) for txt in txts])\n",
    "df.columns = [\"index\", \"czas\", \"tekst\"]\n",
    "df = df.set_index(\"index\")\n",
    "\n",
    "df.head()\n",
    "# TODO"
   ]
  },
  {
   "cell_type": "code",
   "execution_count": null,
   "metadata": {},
   "outputs": [],
   "source": [
    "df.dtypes"
   ]
  },
  {
   "cell_type": "markdown",
   "metadata": {},
   "source": [
    "# Zadania\n",
    "\n",
    "## Zadanie  Dodatkowe kolumny\n",
    "\n",
    "Ustawić poprawne typy danych.\n",
    "Do istniejącego zestawu danych dodaj nowe kolumny:\n",
    "\n",
    "- `t` długość trwania napisu (w sekundach)\n",
    "- `l` liczba znaków w napisie\n",
    "- `n` liczba linii w napisie\n",
    "  \n",
    "\n",
    "## Zadanie Statystyki i grupowanie\n",
    "\n",
    "Wylicz podstawowe statystyki dla kolumn `t`, `l` i `n`.\n",
    "Pogrupuj dane po długości (`t`) i/lub liczbie linii (`n`) i oblicz statystyki dla każdej grupy.\n",
    "\n",
    "### Przygotuj raport w formacie LaTeX, zawierający statystyki w tabeli.\n",
    "\n",
    "## Zadanie  Wykres czasu trwania\n",
    "\n",
    "Stwórz wykres przedstawiający czas końca napisu w funkcji czasu jego rozpoczęcia.\n",
    "\n",
    "## Zadanie  Histogram czasu trwania\n",
    "\n",
    "Stwórz histogram czasu trwania napisów.\n",
    "\n",
    "- Z podziałem an `n`\n",
    "\n",
    "## Zadanie  Histogram liczby znaków\n",
    "\n",
    "Stwórz histogram liczby znaków w napisach.\n",
    "- Z podziałem na `n`\n",
    "\n",
    "## Zadanie  Boxplot `t`\n",
    "\n",
    "- Stwórz boxplot dla `t`.\n",
    "\n",
    "- Stwórz boxplot dla `t` z podziałem na `n`.\n",
    "\n",
    "## Zadanie  Scatter plot\n",
    "\n",
    "Stwórz scatter plot z `l` na osi `X ` i `t` na osi `Y`. Dodatkowo, pokoloruj punkty według `n`.\n",
    "\n",
    "\n",
    "## Zadanie Stwórz wykres łącznego rozkładu `t `i `l`. \n",
    "\n",
    "- Dodatkowo, mozna zrobić mapę hexbin.\n",
    "- Zapisać wykres jako plik `pdf`\n",
    "\n",
    "\n",
    "## Zadanie  Wygładzanie ` l(t)`\n",
    "\n",
    "Wygładź funkcję `l(t)` i zaprezentuj ją na wykresie.\n",
    "\n",
    "## Zadanie  Zliczenia liter w czasie\n",
    "\n",
    "Oblicz zliczenia liter w jednostce czasu (np. litery na sekundę).\n",
    "\n",
    "## Zadanie Rozkład liter\n",
    "\n",
    "Oblicz rozkład częstości występowania poszczególnych liter w napisach.\n",
    "\n",
    "## Zadanie  Łączny rozkład liter\n",
    "\n",
    "Stwórz wykres łącznego rozkładu dwóch kolejnych liter w napisach.\n",
    "\n",
    "\n"
   ]
  },
  {
   "cell_type": "code",
   "execution_count": null,
   "metadata": {},
   "outputs": [],
   "source": [
    "try:\n",
    "    df.loc[2,'n']=44\n",
    "except:\n",
    "    print(\"Error\")\n",
    "\n",
    "print(df.dtypes)"
   ]
  },
  {
   "cell_type": "code",
   "execution_count": null,
   "metadata": {},
   "outputs": [],
   "source": [
    "## Zadanie  Histogram l\n",
    "\n",
    "match 1:\n",
    "    case 1:\n",
    "        (so.Plot(df, x=\"l\", color=\"multiline\").add(so.Bar(), so.Hist()).show())\n",
    "    case 2:\n",
    "        (so.Plot(df, x=\"l\", color=\"ns\")\n",
    "         .add(so.Bar(), so.Hist())\n",
    "         .show()\n",
    "        )"
   ]
  },
  {
   "cell_type": "code",
   "execution_count": null,
   "metadata": {},
   "outputs": [],
   "source": [
    "## Zadanie  Łączny rozkład t i l\n",
    "\n",
    "_case=4\n",
    "\n",
    "match _case:\n",
    "    case 1:\n",
    "        sns.displot(df, x=\"l\", y=\"t\",cbar=True)\n",
    "    case 2:\n",
    "        sns.histplot(df, x=\"l\", y=\"t\",cbar=True)\n",
    "    case 3:\n",
    "        sns.jointplot(df, x=\"l\", y=\"t\", kind=\"hex\")\n",
    "    case 4:\n",
    "        plt.hexbin(df.l, df.t, gridsize=50, mincnt=1)\n",
    "        plt.colorbar()"
   ]
  },
  {
   "cell_type": "code",
   "execution_count": null,
   "metadata": {},
   "outputs": [],
   "source": [
    "sns.set_theme('paper',style='whitegrid')\n",
    "sns.displot(df, x=\"l\", y=\"t\",cbar=True)\n",
    "plt.savefig('mgr.pdf')"
   ]
  }
 ],
 "metadata": {
  "kernelspec": {
   "display_name": "Python 3",
   "language": "python",
   "name": "python3"
  },
  "language_info": {
   "codemirror_mode": {
    "name": "ipython",
    "version": 3
   },
   "file_extension": ".py",
   "mimetype": "text/x-python",
   "name": "python",
   "nbconvert_exporter": "python",
   "pygments_lexer": "ipython3",
   "version": "3.10.0"
  }
 },
 "nbformat": 4,
 "nbformat_minor": 2
}
